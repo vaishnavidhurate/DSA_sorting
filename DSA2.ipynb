{
 "cells": [
  {
   "cell_type": "markdown",
   "id": "8fa4f4ca-4da2-4738-817c-202fa210fe17",
   "metadata": {},
   "source": [
    "# SORTING"
   ]
  },
  {
   "cell_type": "code",
   "execution_count": 6,
   "id": "08c48475-555a-49e1-8393-6f24d91eecaf",
   "metadata": {},
   "outputs": [
    {
     "name": "stdin",
     "output_type": "stream",
     "text": [
      "enter size of array 5\n",
      "Enter array elements 45\n",
      "Enter array elements 24\n",
      "Enter array elements 33\n",
      "Enter array elements 22\n",
      "Enter array elements 77\n"
     ]
    },
    {
     "name": "stdout",
     "output_type": "stream",
     "text": [
      "SORTED ARRAY IS : [22, 24, 33, 45, 77]\n"
     ]
    }
   ],
   "source": [
    "#INSERTION SORT\n",
    "def insertion_sort(arr):\n",
    "    for i in range(1, len(arr)):\n",
    "        k= arr[i]\n",
    "        j = i-1\n",
    "        while j >= 0 and k < arr[j]:\n",
    "            arr[j + 1] = arr[j]\n",
    "            j = j - 1\n",
    "        arr[j + 1] = k\n",
    "    return arr\n",
    "\n",
    "arr =[]\n",
    "n=int(input(\"enter size of array\"))\n",
    "for i in range(n):\n",
    "    x=int(input(\"Enter array elements\"))\n",
    "    arr.append(x)\n",
    "sorted_arr = insertion_sort(arr)\n",
    "print(\"SORTED ARRAY IS :\", sorted_arr)\n"
   ]
  },
  {
   "cell_type": "code",
   "execution_count": 11,
   "id": "cf4c1cf9-8e50-4b7a-bcc6-fb682f0376cc",
   "metadata": {},
   "outputs": [
    {
     "name": "stdin",
     "output_type": "stream",
     "text": [
      "enter size of array 4\n",
      "Enter array elements 44\n",
      "Enter array elements 55\n",
      "Enter array elements 22\n",
      "Enter array elements 88\n"
     ]
    },
    {
     "name": "stdout",
     "output_type": "stream",
     "text": [
      "SORTED ARRAY IS :: [22, 44, 55, 88]\n"
     ]
    }
   ],
   "source": [
    "#QUICK SORT\n",
    "\n",
    "def partition(arr, low, high):\n",
    "    i = (low-1)\n",
    "    pivot = arr[high]\n",
    "\n",
    "    for j in range(low, high):\n",
    "        if arr[j] <= pivot:\n",
    "            i = i+1\n",
    "            arr[i], arr[j] = arr[j], arr[i]\n",
    "\n",
    "    arr[i+1], arr[high] = arr[high], arr[i+1]\n",
    "    return (i+1)\n",
    "\n",
    "def quick_sort(arr, low, high):\n",
    "    if low < high:\n",
    "        pi = partition(arr, low, high)\n",
    "\n",
    "        quick_sort(arr, low, pi-1)\n",
    "        quick_sort(arr, pi+1, high)\n",
    "    return arr\n",
    "\n",
    "arr =[]\n",
    "n=int(input(\"enter size of array\"))\n",
    "for i in range(n):\n",
    "    x=int(input(\"Enter array elements\"))\n",
    "    arr.append(x)\n",
    "sorted_arr = quick_sort(arr, 0, len(arr)-1)\n",
    "print(\"SORTED ARRAY IS ::\", sorted_arr)\n"
   ]
  },
  {
   "cell_type": "code",
   "execution_count": 10,
   "id": "32e49ff8-07aa-4f5d-9bcf-7289667b89bf",
   "metadata": {},
   "outputs": [
    {
     "name": "stdin",
     "output_type": "stream",
     "text": [
      "enter size of array 4\n",
      "Enter array elements 22\n",
      "Enter array elements 33\n",
      "Enter array elements 44\n",
      "Enter array elements 1\n"
     ]
    },
    {
     "name": "stdout",
     "output_type": "stream",
     "text": [
      "SORTED ARRAY IS : [1, 22, 33, 44]\n"
     ]
    }
   ],
   "source": [
    "#MERGE SORT\n",
    "\n",
    "def merge_sort(arr):\n",
    "    if len(arr) > 1:\n",
    "        mid = len(arr) // 2\n",
    "        L = arr[:mid]\n",
    "        R = arr[mid:]\n",
    "\n",
    "        merge_sort(L)\n",
    "        merge_sort(R)\n",
    "\n",
    "        i = j = k = 0\n",
    "        while i < len(L) and j < len(R):\n",
    "            if L[i] < R[j]:\n",
    "                arr[k] = L[i]\n",
    "                i += 1\n",
    "            else:\n",
    "                arr[k] = R[j]\n",
    "                j += 1\n",
    "            k += 1\n",
    "\n",
    "        while i < len(L):\n",
    "            arr[k] = L[i]\n",
    "            i += 1\n",
    "            k += 1\n",
    "\n",
    "        while j < len(R):\n",
    "            arr[k] = R[j]\n",
    "            j += 1\n",
    "            k += 1\n",
    "    return arr\n",
    "\n",
    "\n",
    "arr =[]\n",
    "n=int(input(\"enter size of array\"))\n",
    "for i in range(n):\n",
    "    x=int(input(\"Enter array elements\"))\n",
    "    arr.append(x)\n",
    "sorted_arr = merge_sort(arr)\n",
    "print(\"SORTED ARRAY IS :\", sorted_arr)\n"
   ]
  },
  {
   "cell_type": "code",
   "execution_count": null,
   "id": "06f80ee4-052c-4f09-909a-d1e62453232c",
   "metadata": {},
   "outputs": [],
   "source": []
  }
 ],
 "metadata": {
  "kernelspec": {
   "display_name": "Python 3 (ipykernel)",
   "language": "python",
   "name": "python3"
  },
  "language_info": {
   "codemirror_mode": {
    "name": "ipython",
    "version": 3
   },
   "file_extension": ".py",
   "mimetype": "text/x-python",
   "name": "python",
   "nbconvert_exporter": "python",
   "pygments_lexer": "ipython3",
   "version": "3.11.7"
  }
 },
 "nbformat": 4,
 "nbformat_minor": 5
}
